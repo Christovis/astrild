{
 "cells": [
  {
   "cell_type": "code",
   "execution_count": null,
   "metadata": {},
   "outputs": [],
   "source": [
    "from pathlib import Path\n",
    "\n",
    "from wys_ars.particles.ecosmog import Ecosmog\n",
    "from wys_ars.simcoll import SimulationCollection as SimColl\n",
    "from wys_ars.power_spectra.power_spectrum import PowerSpectrum"
   ]
  },
  {
   "cell_type": "code",
   "execution_count": null,
   "metadata": {},
   "outputs": [],
   "source": [
    "dir_src = Path(__file__).parent.absolute()\n",
    "sim_config_times = dir_src / \"configs/particle_snapshot_info.h5\"\n",
    "sim_config_places = dir_src / f\"configs/dtfe/cvg_{cosmo}_simulation_collection.yaml\""
   ]
  },
  {
   "cell_type": "code",
   "execution_count": null,
   "metadata": {},
   "outputs": [],
   "source": [
    "domain_level = 512\n",
    "amr_levels = (9, 9)"
   ]
  },
  {
   "cell_type": "code",
   "execution_count": null,
   "metadata": {},
   "outputs": [],
   "source": [
    "# Initialise collection of simulations\n",
    "simcoll = SimColl.from_file(sim_config_places, sim_config_times)\n",
    "\n",
    "sim_nrs = {\n",
    "    \"sim1\": [5],\n",
    "    \"sim2\": [5],\n",
    "    \"sim3\": [5],\n",
    "    \"sim4\": [5],\n",
    "    \"sim5\": [7],\n",
    "}\n",
    "\n",
    "# Loop over each simulation in the collection\n",
    "for sim_name, sim in simcoll.sim.items():\n",
    "    # Flatten AMR mesh into domain layer mesh using DTFE\n",
    "    sim.dtfe(\n",
    "        snap_nrs=sim_nrs[sim_name],\n",
    "        file_root=\"snap_\",\n",
    "        quantities=[\"density_a\", \"velocity_a\", \"divergence_a\"],\n",
    "        file_dsc={\n",
    "            \"root\": \"snap_%03d.\" % sim_nrs[sim_name][0], \n",
    "            \"extension\": None,\n",
    "        },\n",
    "    )\n",
    "    \n",
    "    # Read Ramses cpu output binary files for a snapshot and convert into pandas DataFrame\n",
    "    if \"grav\" in sim.file_dsc[\"root\"]:\n",
    "        fields = [\n",
    "            \"x\",\n",
    "            \"y\",\n",
    "            \"z\",\n",
    "            \"phi\",\n",
    "            \"f1\",\n",
    "            \"f2\",\n",
    "            \"f3\",\n",
    "        ]\n",
    "    sim.compress_snapshot(\n",
    "        amr_levels,\n",
    "        domain_level,\n",
    "        fields,\n",
    "        sim.file_dsc[\"root\"],\n",
    "        None,\n",
    "    )\n",
    "    \n",
    "    # Get power spectrum of all simulations\n",
    "    pk = PowerSpectrum(\"particles\", sim)\n",
    "    file_dsc = {\"root\": \"density_dtfe\", \"extension\": \"npy\"}\n",
    "    #file_dsc = {\"root\": \"div_velocity_dtfe\", \"extension\": \"npy\"}\n",
    "    pk.compute(\n",
    "        \"dtfe_matter\",\n",
    "        #\"div_velocity\",\n",
    "        None,\n",
    "        file_dsc,\n",
    "        None,\n",
    "        save=True,\n",
    "    )"
   ]
  }
 ],
 "metadata": {
  "kernelspec": {
   "display_name": "Python 3",
   "language": "python",
   "name": "python3"
  },
  "language_info": {
   "codemirror_mode": {
    "name": "ipython",
    "version": 3
   },
   "file_extension": ".py",
   "mimetype": "text/x-python",
   "name": "python",
   "nbconvert_exporter": "python",
   "pygments_lexer": "ipython3",
   "version": "3.8.3"
  }
 },
 "nbformat": 4,
 "nbformat_minor": 4
}
